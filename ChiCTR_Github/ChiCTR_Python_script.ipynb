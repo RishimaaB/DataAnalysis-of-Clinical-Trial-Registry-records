{
 "cells": [
  {
   "cell_type": "code",
   "execution_count": null,
   "id": "e24fbd44",
   "metadata": {},
   "outputs": [],
   "source": [
    "#Utilised the selenium automation programme in order to solve the captchas while downloading the records\n",
    "from datetime import datetime\n",
    "import pandas as pd\n",
    "from selenium import webdriver\n",
    "driver = webdriver.Chrome()\n",
    "\n",
    "df=pd.read_csv(\"66773.csv\")\n",
    "length=len(df.index)\n",
    "\n",
    "\n",
    "for i in range(length):\n",
    "  print(i)\n",
    "  print(df.loc[i,'record_links'])\n",
    "  driver.get(df.loc[i,'record_links'])\n",
    "\n",
    "  with open(str(i)+\"_english_chictr.html\", \"w\", encoding='utf-8') as f:\n",
    "    f.write(driver.page_source)\n",
    "    \n",
    "  url=df.loc[i,'record_links']\n",
    "  dt = datetime.now()\n",
    "  full_datetime = \"%B %d, %Y %H:%M:%S\"\n",
    "  date=dt.strftime(full_datetime)\n",
    "  lst1 = [i]\n",
    "  lst2 = [date]\n",
    "  lst3 = [url]\n",
    "  df2 = pd.DataFrame(list(zip(lst1, lst2,lst3)), columns =['Page_number', 'Date','URL']) \n",
    "  df2.to_csv('Timestamp_7_52317.csv',mode='a',header=False)"
   ]
  }
 ],
 "metadata": {
  "kernelspec": {
   "display_name": "Python 3 (ipykernel)",
   "language": "python",
   "name": "python3"
  },
  "language_info": {
   "codemirror_mode": {
    "name": "ipython",
    "version": 3
   },
   "file_extension": ".py",
   "mimetype": "text/x-python",
   "name": "python",
   "nbconvert_exporter": "python",
   "pygments_lexer": "ipython3",
   "version": "3.10.9"
  }
 },
 "nbformat": 4,
 "nbformat_minor": 5
}
